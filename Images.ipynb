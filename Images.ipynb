{
  "nbformat": 4,
  "nbformat_minor": 0,
  "metadata": {
    "colab": {
      "provenance": [],
      "authorship_tag": "ABX9TyPVUttCyvm1QL5Jn/EP0M0r",
      "include_colab_link": true
    },
    "kernelspec": {
      "name": "python3",
      "display_name": "Python 3"
    },
    "language_info": {
      "name": "python"
    }
  },
  "cells": [
    {
      "cell_type": "markdown",
      "metadata": {
        "id": "view-in-github",
        "colab_type": "text"
      },
      "source": [
        "<a href=\"https://colab.research.google.com/github/AdamChomicki/CNN/blob/main/Images.ipynb\" target=\"_parent\"><img src=\"https://colab.research.google.com/assets/colab-badge.svg\" alt=\"Open In Colab\"/></a>"
      ]
    },
    {
      "cell_type": "markdown",
      "source": [
        "### Viewing photos"
      ],
      "metadata": {
        "id": "RZlI5MN322_X"
      }
    },
    {
      "cell_type": "code",
      "execution_count": null,
      "metadata": {
        "id": "daeVibXedXmY"
      },
      "outputs": [],
      "source": [
        "images = X_train[:5]\n",
        "\n",
        "fig = plt.figure(figsize=(16., 16.))\n",
        "grid = ImageGrid(fig, 111,\n",
        "                 nrows_ncols=(1,5),\n",
        "                 axes_pad=0.1\n",
        "                 )\n",
        "\n",
        "for ax, image in zip(grid, images):\n",
        "  ax.imshow(image)\n",
        "\n",
        "plt.show()"
      ]
    },
    {
      "cell_type": "markdown",
      "source": [
        "### Viewing photos with masks"
      ],
      "metadata": {
        "id": "e086bEjJ27hk"
      }
    },
    {
      "cell_type": "code",
      "source": [
        "corrupted_images = []\n",
        "correct_images = []\n",
        "sample_masks = []\n",
        "\n",
        "ii = 0\n",
        "for (corrupted, mask), reconstruction in train_ds:\n",
        "  ii += 1\n",
        "  corrupted_images.append(corrupted[0])\n",
        "  correct_images.append(reconstruction[0])\n",
        "  sample_masks.append(mask[0])\n",
        "  if ii == 3:\n",
        "    break"
      ],
      "metadata": {
        "id": "hi7NaAnJ3Eih"
      },
      "execution_count": null,
      "outputs": []
    },
    {
      "cell_type": "code",
      "source": [
        "fig = plt.figure(figsize=(8., 8.))\n",
        "grid = ImageGrid(fig, 111,\n",
        "                 nrows_ncols=(3,3),\n",
        "                 axes_pad=0.1\n",
        "                 )\n",
        "\n",
        "for idx, ax in enumerate(grid):\n",
        "  if idx%3 == 0:\n",
        "    ax.imshow(correct_images[idx//3])\n",
        "  elif idx%3 == 1:\n",
        "    ax.imshow(sample_masks[idx//3])\n",
        "  else:\n",
        "    ax.imshow(corrupted_images[idx//3])\n",
        "\n",
        "plt.show()"
      ],
      "metadata": {
        "id": "F1dTnlXo3G-g"
      },
      "execution_count": null,
      "outputs": []
    }
  ]
}